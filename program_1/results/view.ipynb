{
 "cells": [
  {
   "cell_type": "code",
   "execution_count": null,
   "id": "ab5e4a1c",
   "metadata": {},
   "outputs": [],
   "source": []
  },
  {
   "cell_type": "code",
   "execution_count": 15,
   "id": "c4f87b5d",
   "metadata": {},
   "outputs": [
    {
     "name": "stdout",
     "output_type": "stream",
     "text": [
      "9,1 -> 5,2 -> 2,3 -> 1,4 -> 6,5 -> 0,4\n"
     ]
    }
   ],
   "source": [
    "import re\n",
    "from collections import defaultdict, deque\n",
    "\n",
    "# Input text\n",
    "text = \"before((7,4),(3,1),(6,jfk)) before((6,5),(4,1),(6,jfk)) before((9,3),(6,1),(6,jfk)) before((1,2),(8,1),(6,jfk)) before((5,4),(9,1),(6,jfk)) before((3,1),(1,2),(6,jfk)) before((9,1),(5,2),(6,jfk)) before((8,3),(7,2),(6,jfk)) before((1,4),(0,3),(6,jfk)) before((2,1),(8,3),(6,jfk)) before((8,1),(9,3),(6,jfk)) before((4,1),(1,4),(6,jfk)) before((0,3),(5,4),(6,jfk)) before((5,2),(7,4),(6,jfk)) before((7,2),(6,5),(6,jfk))\"\n",
    "\n",
    "text_2 = \"before((6,5),(2,1),(6,jfk)) before((2,5),(4,1),(6,jfk)) before((7,2),(0,2),(6,jfk)) before((0,2),(1,2),(6,jfk)) before((3,1),(5,2),(6,jfk)) before((4,1),(7,2),(6,jfk)) before((1,2),(2,3),(6,jfk)) before((5,2),(0,4),(6,jfk)) before((2,1),(1,4),(6,jfk)) before((2,3),(5,4),(6,jfk)) before((0,4),(7,4),(6,jfk)) before((7,4),(2,5),(6,jfk)) before((1,4),(6,5),(6,jfk))\"\n",
    "# Read the text from the file\n",
    "with open(\"results/trajectories.lp\", \"r\") as file:\n",
    "    text = file.read()\n",
    "\n",
    "# Extract the \"before\" relationships\n",
    "\n",
    "matches = re.findall(r\"before\\(\\((\\d+,\\d+)\\),\\((\\d+,\\d+)\\),\\(6,jfk\\)\\)\", text)\n",
    "\n",
    "# Build a directed graph from the relationships\n",
    "graph = defaultdict(list)\n",
    "in_degree = defaultdict(int)\n",
    "\n",
    "for x, y in matches:\n",
    "    graph[x].append(y)\n",
    "    in_degree[y] += 1\n",
    "    if x not in in_degree:\n",
    "        in_degree[x] = 0\n",
    "\n",
    "# Perform topological sorting\n",
    "queue = deque([node for node in in_degree if in_degree[node] == 0])\n",
    "sorted_sequence = []\n",
    "\n",
    "while queue:\n",
    "    node = queue.popleft()\n",
    "    sorted_sequence.append(node)\n",
    "    for neighbor in graph[node]:\n",
    "        in_degree[neighbor] -= 1\n",
    "        if in_degree[neighbor] == 0:\n",
    "            queue.append(neighbor)\n",
    "\n",
    "# Check for cycles (if sorted_sequence length is less than the number of nodes, there's a cycle)\n",
    "if len(sorted_sequence) < len(in_degree):\n",
    "    print(\"Error: The graph contains a cycle and cannot be sorted topologically.\")\n",
    "else:\n",
    "    # Output the sorted sequence\n",
    "    print(\" -> \".join(sorted_sequence))"
   ]
  }
 ],
 "metadata": {
  "kernelspec": {
   "display_name": "nasa-py3.9",
   "language": "python",
   "name": "python3"
  },
  "language_info": {
   "codemirror_mode": {
    "name": "ipython",
    "version": 3
   },
   "file_extension": ".py",
   "mimetype": "text/x-python",
   "name": "python",
   "nbconvert_exporter": "python",
   "pygments_lexer": "ipython3",
   "version": "3.9.18"
  }
 },
 "nbformat": 4,
 "nbformat_minor": 5
}
